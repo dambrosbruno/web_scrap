{
 "cells": [
  {
   "cell_type": "code",
   "execution_count": 1,
   "id": "23da7347",
   "metadata": {},
   "outputs": [],
   "source": [
    "from selenium import webdriver\n",
    "from bs4 import BeautifulSoup\n",
    "from selenium.webdriver.common.by import By\n",
    "from selenium.webdriver.chrome.options import Options\n",
    "from time import sleep"
   ]
  },
  {
   "cell_type": "code",
   "execution_count": 2,
   "id": "f12c42d8",
   "metadata": {},
   "outputs": [
    {
     "name": "stderr",
     "output_type": "stream",
     "text": [
      "C:\\Users\\BRUNOD~1\\AppData\\Local\\Temp/ipykernel_16064/3838472765.py:3: DeprecationWarning: executable_path has been deprecated, please pass in a Service object\n",
      "  driver = webdriver.Chrome(executable_path=r'C:\\Users\\brunodambros\\Documents\\tech\\scrap_airbnb\\chromedriver.exe', options=options)\n"
     ]
    }
   ],
   "source": [
    "options = Options()\n",
    "options.add_argument('window-size=250,1000')\n",
    "driver = webdriver.Chrome(executable_path=r'C:\\Users\\brunodambros\\Documents\\tech\\scrap_airbnb\\chromedriver.exe', options=options)\n",
    "driver.implicitly_wait(5)"
   ]
  },
  {
   "cell_type": "code",
   "execution_count": 3,
   "id": "b69b42dd",
   "metadata": {},
   "outputs": [],
   "source": [
    "driver.get('https://www.amazon.com.br/')\n",
    "a = driver.find_element(By.ID, \"twotabsearchtextbox\")\n",
    "a.click()\n",
    "a.send_keys('python')\n",
    "b = driver.find_element(By.ID, \"nav-search-submit-button\")\n",
    "b.click()\n",
    "driver.implicitly_wait(5)"
   ]
  },
  {
   "cell_type": "code",
   "execution_count": 4,
   "id": "b6059289",
   "metadata": {
    "scrolled": true
   },
   "outputs": [],
   "source": [
    "lista_livros = []\n",
    "pag = range(len(driver.find_elements(By.XPATH, '//*[@id=\"search\"]/div[1]/div[1]/div/span[1]/div[1]/div[3]/div')))\n",
    "\n",
    "for i in pag:\n",
    "    title = driver.find_elements(By.XPATH, \"//span[@class='a-size-base-plus a-color-base a-text-normal']\")\n",
    "    author = driver.find_elements(By.XPATH, \"//span[@class='a-size-base'][2]\")\n",
    "    price = driver.find_elements(By.XPATH, \"//span[@class='a-price']\")    \n",
    "    for (tit, aut, pri) in zip(title, author, price):\n",
    "        lista_livros.append({'TITLE':tit.text, 'AUTHOR':aut.text, 'PRICE':pri.text})"
   ]
  },
  {
   "cell_type": "code",
   "execution_count": 5,
   "id": "5156606f",
   "metadata": {
    "scrolled": false
   },
   "outputs": [
    {
     "data": {
      "text/plain": [
       "[{'TITLE': 'Python Para Data Science: E Machine Learning Descomplicado',\n",
       "  'AUTHOR': 'Amílcar Netto',\n",
       "  'PRICE': 'R$71\\n20'},\n",
       " {'TITLE': 'Começando a programar em Python para leigos',\n",
       "  'AUTHOR': 'John Paul Mueller',\n",
       "  'PRICE': 'R$71\\n90'},\n",
       " {'TITLE': 'Introdução à Programação com Python: Algoritmos e Lógica de Programação Para Iniciantes',\n",
       "  'AUTHOR': 'Nilo Ney Coutinho Menezes',\n",
       "  'PRICE': 'R$53\\n99'},\n",
       " {'TITLE': 'Python Crash Course, 2nd Edition: A Hands-On, Project-Based Introduction to Programming',\n",
       "  'AUTHOR': 'Eric Matthes',\n",
       "  'PRICE': 'R$222\\n22'},\n",
       " {'TITLE': 'PYTHON: Learn Coding Programs with Python Programming and Master Data Analysis & Analytics, Data Science and Machine Learning with the Complete Crash Course ... Beginners - 5 Books in 1 (English Edition)',\n",
       "  'AUTHOR': 'TechExp Academy',\n",
       "  'PRICE': 'R$0\\n00'},\n",
       " {'TITLE': 'Pense em Python: Pense Como um Cientista da Computação',\n",
       "  'AUTHOR': 'Allen B. Downey',\n",
       "  'PRICE': 'R$75\\n70'},\n",
       " {'TITLE': 'Começando a programar em Python para leigos',\n",
       "  'AUTHOR': 'John Paul Mueller',\n",
       "  'PRICE': 'R$71\\n90'},\n",
       " {'TITLE': 'Python: 3 books in 1- Your complete guide to python programming with Python for Beginners, Python Data Analysis and Python Machine Learning (Programming ... for Beginners Book 4) (English Edition)',\n",
       "  'AUTHOR': 'Brady Ellison',\n",
       "  'PRICE': 'R$24\\n99'},\n",
       " {'TITLE': 'Python e Mercado Financeiro: Programação Para Estudantes, Investidores e Analistas',\n",
       "  'AUTHOR': 'Marco Antonio Leonel Caetano',\n",
       "  'PRICE': 'R$96\\n00'},\n",
       " {'TITLE': 'Problemas Clássicos de Ciência da Computação com Python',\n",
       "  'AUTHOR': 'David Kopec',\n",
       "  'PRICE': 'R$56\\n00'},\n",
       " {'TITLE': 'Python: 3 Manuscripts in 1 book: - Python Programming For Beginners - Python Programming For Intermediates - Python Programming for Advanced (Your place ... Python with ease Book 4) (English Edition)',\n",
       "  'AUTHOR': 'Maurice J. Thompson',\n",
       "  'PRICE': 'R$24\\n99'},\n",
       " {'TITLE': 'Aprenda Python 3 do jeito certo: uma introdução muito simples ao incrível mundo dos computadores e da codificação',\n",
       "  'AUTHOR': 'Zed A. Shaw',\n",
       "  'PRICE': 'R$51\\n94'},\n",
       " {'TITLE': 'Web Scraping com Python: Coletando Mais Dados da web Moderna',\n",
       "  'AUTHOR': 'Ryan Mitchell',\n",
       "  'PRICE': 'R$67\\n99'},\n",
       " {'TITLE': 'Python Para Data Science: E Machine Learning Descomplicado',\n",
       "  'AUTHOR': 'Amilcar Netto',\n",
       "  'PRICE': 'R$67\\n64'},\n",
       " {'TITLE': 'Fundamentos de Python: Primeiros Programas',\n",
       "  'AUTHOR': 'Kenneth A. Lambert',\n",
       "  'PRICE': 'R$125\\n88'},\n",
       " {'TITLE': 'Automate the Boring Stuff with Python, 2nd Edition: Practical Programming for Total Beginners',\n",
       "  'AUTHOR': 'Al Sweigart',\n",
       "  'PRICE': 'R$225\\n90'},\n",
       " {'TITLE': 'Python: Guia prático de Programação: Uma abordagem simples, para verdadeiros iniciantes (produtividadeprogramada.com.br)',\n",
       "  'AUTHOR': 'Tiago P. Ribeiro',\n",
       "  'PRICE': 'R$0\\n00'},\n",
       " {'TITLE': 'Python Crash Course, 3rd Edition: A Hands-On, Project-Based Introduction to Programming (English Edition)',\n",
       "  'AUTHOR': 'Eric Matthes',\n",
       "  'PRICE': 'R$139\\n90'},\n",
       " {'TITLE': 'O Guia do Mochileiro Python: Melhores Práticas Para Desenvolvimento',\n",
       "  'AUTHOR': 'Kenneth Reitz',\n",
       "  'PRICE': 'R$69\\n00'},\n",
       " {'TITLE': 'Jornada Python: uma Jornada Imersiva na Aplicabilidade de uma das Mais Poderosas Linguagens de Programação do Mundo (Volume 1)',\n",
       "  'AUTHOR': 'Antonio Muniz',\n",
       "  'PRICE': 'R$47\\n21'},\n",
       " {'TITLE': 'Lógica de programação: A construção de algoritmos e estruturas de dados com aplicações em Python',\n",
       "  'AUTHOR': 'André Luiz Villar Forbellone',\n",
       "  'PRICE': 'R$55\\n99'},\n",
       " {'TITLE': 'Fluent Python (English Edition)',\n",
       "  'AUTHOR': 'Luciano Ramalho',\n",
       "  'PRICE': 'R$104\\n39'},\n",
       " {'TITLE': 'Learning Python: Powerful Object-Oriented Programming (English Edition)',\n",
       "  'AUTHOR': 'Mark Lutz',\n",
       "  'PRICE': 'R$83\\n59'},\n",
       " {'TITLE': 'Python e R para o Cientista de Dados Moderno: O melhor de dois mundos',\n",
       "  'AUTHOR': 'Rick J. Scavetta',\n",
       "  'PRICE': 'R$58\\n41'},\n",
       " {'TITLE': 'Python e Django: desenvolvimento web moderno e ágil',\n",
       "  'AUTHOR': 'Francisco Marcelo de Barros Maciel',\n",
       "  'PRICE': 'R$79\\n80'},\n",
       " {'TITLE': 'Object-Oriented Python: Master Oop by Building Games and GUIs',\n",
       "  'AUTHOR': 'Irv Kalb',\n",
       "  'PRICE': 'R$238\\n41'},\n",
       " {'TITLE': 'Data Science Do Zero: Noções Fundamentais com Python',\n",
       "  'AUTHOR': 'Joel Grus',\n",
       "  'PRICE': 'R$88\\n48'},\n",
       " {'TITLE': 'Python: Guia prático do básico ao avançado (Cientista de dados Livro 2)',\n",
       "  'AUTHOR': 'Rafael F. V. C. Santos',\n",
       "  'PRICE': 'R$0\\n00'},\n",
       " {'TITLE': 'Python for Data Analysis (English Edition)',\n",
       "  'AUTHOR': 'Wes McKinney',\n",
       "  'PRICE': 'R$144\\n99'},\n",
       " {'TITLE': 'Python Levado a Sério: Conselhos de um Faixa-preta Sobre Implantação, Escalabilidade, Testes e Outros Assuntos',\n",
       "  'AUTHOR': 'Julien Danjou',\n",
       "  'PRICE': 'R$56\\n00'},\n",
       " {'TITLE': 'Projetos com Python e Arduino: Como Desenvolver Projetos Práticos de Eletrônica, Automação e Iot',\n",
       "  'AUTHOR': 'HUMBERTO AUGUSTO PIOVESANA ZANETTI',\n",
       "  'PRICE': 'R$30\\n99'},\n",
       " {'TITLE': 'Python:Para Iniciantes Parte -1: Guia para aprender a linguagem Python em 15 dias',\n",
       "  'AUTHOR': 'Vijay Verma',\n",
       "  'PRICE': 'R$0\\n00'},\n",
       " {'TITLE': 'Aprendendo Padrões de Projeto em Python: Tire Proveito da Eficácia dos Padrões de Projeto (design Patterns) em Python Para Resolver Problemas do Mundo Real em Arquitetura e Design de Software',\n",
       "  'AUTHOR': 'Chetan Giridhar',\n",
       "  'PRICE': 'R$41\\n00'},\n",
       " {'TITLE': 'Lógica de programação: A construção de algoritmos e estruturas de dados com aplicações em Python',\n",
       "  'AUTHOR': 'André Luiz Villar Forbellone',\n",
       "  'PRICE': 'R$55\\n99'},\n",
       " {'TITLE': 'Python Coding for Kids: Easy and Simple Guide on Coding for Children (English Edition)',\n",
       "  'AUTHOR': 'Melinda Jones',\n",
       "  'PRICE': 'R$0\\n00'},\n",
       " {'TITLE': 'Use a Cabeça! Python',\n",
       "  'AUTHOR': 'Paul Barry',\n",
       "  'PRICE': 'R$104\\n30'},\n",
       " {'TITLE': 'Python Programming and SQL: 5 books in 1 - The #1 Coding Course from Beginner to Advanced. Learn it Well & Fast (2023) (Computer Programming) (English Edition)',\n",
       "  'AUTHOR': 'Mark Reed',\n",
       "  'PRICE': 'R$0\\n00'},\n",
       " {'TITLE': '300 Exercícios Resolvidos e Comentados em Python',\n",
       "  'AUTHOR': 'Fernando Feltrin',\n",
       "  'PRICE': 'R$0\\n00'},\n",
       " {'TITLE': 'Programação em Python 3',\n",
       "  'AUTHOR': 'Mark Summerfield',\n",
       "  'PRICE': 'R$97\\n90'},\n",
       " {'TITLE': 'Python para data science para leigos: os primeiros passos para o sucesso',\n",
       "  'AUTHOR': 'John Paul Mueller',\n",
       "  'PRICE': 'R$42\\n00'},\n",
       " {'TITLE': 'FUNDAMENTOS DE PYTHON: Estruturas de dados',\n",
       "  'AUTHOR': 'Kenneth A. Lambert',\n",
       "  'PRICE': 'R$93\\n40'},\n",
       " {'TITLE': 'Python: Escreva seus primeiros programas',\n",
       "  'AUTHOR': 'Felipe Cruz',\n",
       "  'PRICE': 'R$44\\n91'},\n",
       " {'TITLE': 'Black Hat Python, 2nd Edition: Python Programming for Hackers and Pentesters',\n",
       "  'AUTHOR': 'Justin Seitz',\n",
       "  'PRICE': 'R$256\\n00'},\n",
       " {'TITLE': 'Programação de Redes com Python: Guia Abrangente de Programação e Gerenciamento de Redes com Python 3',\n",
       "  'AUTHOR': 'Brandon Rhodes',\n",
       "  'PRICE': 'R$70\\n00'},\n",
       " {'TITLE': '6 em 1 - Coleção Python do ZERO às Redes Neurais Artificiais',\n",
       "  'AUTHOR': 'Fernando Feltrin',\n",
       "  'PRICE': 'R$0\\n00'}]"
      ]
     },
     "execution_count": 5,
     "metadata": {},
     "output_type": "execute_result"
    }
   ],
   "source": [
    "lista_livros"
   ]
  }
 ],
 "metadata": {
  "kernelspec": {
   "display_name": "Python 3 (ipykernel)",
   "language": "python",
   "name": "python3"
  },
  "language_info": {
   "codemirror_mode": {
    "name": "ipython",
    "version": 3
   },
   "file_extension": ".py",
   "mimetype": "text/x-python",
   "name": "python",
   "nbconvert_exporter": "python",
   "pygments_lexer": "ipython3",
   "version": "3.9.7"
  }
 },
 "nbformat": 4,
 "nbformat_minor": 5
}
