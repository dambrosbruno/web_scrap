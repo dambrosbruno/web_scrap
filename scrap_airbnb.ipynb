{
 "cells": [
  {
   "cell_type": "code",
   "execution_count": 1,
   "id": "a50a51f5",
   "metadata": {},
   "outputs": [],
   "source": [
    "from bs4 import BeautifulSoup\n",
    "import requests\n",
    "import re"
   ]
  },
  {
   "cell_type": "code",
   "execution_count": 36,
   "id": "5b7030fb",
   "metadata": {},
   "outputs": [],
   "source": [
    "headers = {\n",
    "    'User-Agent': 'Mozilla/5.0 (Windows NT 10.0; Win64; x64) AppleWebKit/537.36 (KHTML, like Gecko) Chrome/105.0.0.0 Safari/537.36', \n",
    "    'Accept-Language':'en-GB, en; q=0.5',\n",
    "    'Referer':'https://google.com',\n",
    "    'DNT':'1'}\n",
    "url = 'https://www.airbnb.com.br/s/Italia/homes?tab_id=home_tab&refinement_paths%5B%5D=%2Fhomes&flexible_trip_lengths%5B%5D=one_week&price_filter_input_type=0&price_filter_num_nights=31&query=Italia&date_picker_type=calendar&checkin=2023-03-09&checkout=2023-04-09&adults=1&source=structured_search_input_header&search_type=filter_change&drawer_open=true&map_toggle=true&place_id=ChIJA9KNRIL-1BIRb15jJFz1LOI&pagination_search=true&price_min=760&price_max=5074'\n",
    "response = requests.get(url, headers=headers)\n",
    "soup = BeautifulSoup(response.content, 'html.parser')"
   ]
  },
  {
   "cell_type": "code",
   "execution_count": 76,
   "id": "b71d2140",
   "metadata": {},
   "outputs": [],
   "source": [
    "a = soup.find_all('div', {'class':'c4mnd7m dir dir-ltr'})\n",
    "a1 = soup.find_all('div', {'class':'c1pbo4kt cikyho8 dir dir-ltr'})\n",
    "a2 = soup.find_all('div', {'class':'m1cp3yuo dir dir-ltr'})\n",
    "a3 = soup.find_all('div', {'class':'dir dir-ltr'})\n",
    "a4 = soup.find_all('div', {'class':'awuxh4x dir dir-ltr'})\n",
    "a5 = soup.find_all('div', {'class':'cw9aemg dir dir-ltr'})\n",
    "a6 = soup.find_all('div', {'class':'g1wiliwt cb4nyux dir dir-ltr'})\n",
    "        \n",
    "b1 = soup.find_all('div', {'class':'c1l1h97y dir dir-ltr'})\n",
    "b2 = soup.find_all('div', {'itemprop':'itemListElement'})\n",
    "b3 = soup.find_all('div', {'class':'cy5jw6o  dir dir-ltr'})\n",
    "b4 = soup.find_all('div', {'class':'lwy0wad l1tup9az dir dir-ltr'})\n",
    "b5 = soup.find_all('div', {'class':'g1qv1ctd cb4nyux dir dir-ltr'}) #informações que eu quero\n",
    "b6 = soup.find_all('div', {'class':'t1jojoys dir dir-ltr'})\n",
    "b7 = soup.find_all('div', {\"class\":\"nquyp1l s1cjsi4j dir dir-ltr\"})\n",
    "b8 = soup.find_all('span', {\"class\":\"t6mzqp7 dir dir-ltr\"})\n",
    "b9 = soup.find_all('div', {\"class\":\"f15liw5s s1cjsi4j dir dir-ltr\"})\n",
    "b10 = soup.find_all('div', {'class':'f15liw5s dir dir-ltr'})\n",
    "b11 = soup.find_all('div', {\"class\":\"p11pu8yw dir dir-ltr\"})\n",
    "b12 = soup.find_all('div', {\"class\":\"_i5duul\"})\n",
    "b13 = soup.find_all('span', {\"class\":\"_14y1gc\"})\n",
    "b14 = soup.find_all('div', {\"class\":\"_1jo4hgw\"})\n",
    "b15 = soup.find_all('span', {\"class\":\"_1ks8cgb\"})\n",
    "b16 = soup.find_all('span', {\"class\":\"_1y74zjx\"})"
   ]
  },
  {
   "cell_type": "code",
   "execution_count": 100,
   "id": "a99b20fd",
   "metadata": {},
   "outputs": [
    {
     "data": {
      "text/plain": [
       "[]"
      ]
     },
     "execution_count": 100,
     "metadata": {},
     "output_type": "execute_result"
    }
   ],
   "source": []
  },
  {
   "cell_type": "code",
   "execution_count": 94,
   "id": "3ca83ae9",
   "metadata": {},
   "outputs": [
    {
     "name": "stdout",
     "output_type": "stream",
     "text": [
      "[] [] <div class=\"f15liw5s dir dir-ltr\"><span aria-busy=\"true\" style=\"display:block;height:19px;width:39%;background-color:white;border-radius:4px\"><span class=\"atm_12_q7pw6w atm_16_12c5xpv atm_u_1yy80mb atm_y_9cwzv5 atm_1c_2rgkoi atm_k4_7tcf61 atm_1k_1ytfnp0 atm_2d_1r31cwp atm_9s_1ulexfb atm_mk_h2mmj6 atm_e2p1ow_glywfm dir dir-ltr\" style=\"height:100%;width:100%;border-radius:4px\"></span></span></div>\n",
      "[] [] <div class=\"f15liw5s dir dir-ltr\"><span aria-busy=\"true\" style=\"display:block;height:19px;width:39%;background-color:white;border-radius:4px\"><span class=\"atm_12_q7pw6w atm_16_12c5xpv atm_u_1yy80mb atm_y_9cwzv5 atm_1c_2rgkoi atm_k4_7tcf61 atm_1k_1ytfnp0 atm_2d_1r31cwp atm_9s_1ulexfb atm_mk_h2mmj6 atm_e2p1ow_glywfm dir dir-ltr\" style=\"height:100%;width:100%;border-radius:4px\"></span></span></div>\n",
      "[] [] <div class=\"f15liw5s dir dir-ltr\"><span aria-busy=\"true\" style=\"display:block;height:19px;width:39%;background-color:white;border-radius:4px\"><span class=\"atm_12_q7pw6w atm_16_12c5xpv atm_u_1yy80mb atm_y_9cwzv5 atm_1c_2rgkoi atm_k4_7tcf61 atm_1k_1ytfnp0 atm_2d_1r31cwp atm_9s_1ulexfb atm_mk_h2mmj6 atm_e2p1ow_glywfm dir dir-ltr\" style=\"height:100%;width:100%;border-radius:4px\"></span></span></div>\n",
      "[] [] <div class=\"f15liw5s dir dir-ltr\"><span aria-busy=\"true\" style=\"display:block;height:19px;width:39%;background-color:white;border-radius:4px\"><span class=\"atm_12_q7pw6w atm_16_12c5xpv atm_u_1yy80mb atm_y_9cwzv5 atm_1c_2rgkoi atm_k4_7tcf61 atm_1k_1ytfnp0 atm_2d_1r31cwp atm_9s_1ulexfb atm_mk_h2mmj6 atm_e2p1ow_glywfm dir dir-ltr\" style=\"height:100%;width:100%;border-radius:4px\"></span></span></div>\n",
      "[] [] <div class=\"f15liw5s dir dir-ltr\"><span aria-busy=\"true\" style=\"display:block;height:19px;width:39%;background-color:white;border-radius:4px\"><span class=\"atm_12_q7pw6w atm_16_12c5xpv atm_u_1yy80mb atm_y_9cwzv5 atm_1c_2rgkoi atm_k4_7tcf61 atm_1k_1ytfnp0 atm_2d_1r31cwp atm_9s_1ulexfb atm_mk_h2mmj6 atm_e2p1ow_glywfm dir dir-ltr\" style=\"height:100%;width:100%;border-radius:4px\"></span></span></div>\n",
      "[] [] <div class=\"f15liw5s dir dir-ltr\"><span aria-busy=\"true\" style=\"display:block;height:19px;width:39%;background-color:white;border-radius:4px\"><span class=\"atm_12_q7pw6w atm_16_12c5xpv atm_u_1yy80mb atm_y_9cwzv5 atm_1c_2rgkoi atm_k4_7tcf61 atm_1k_1ytfnp0 atm_2d_1r31cwp atm_9s_1ulexfb atm_mk_h2mmj6 atm_e2p1ow_glywfm dir dir-ltr\" style=\"height:100%;width:100%;border-radius:4px\"></span></span></div>\n",
      "[] [] <div class=\"f15liw5s dir dir-ltr\"><span aria-busy=\"true\" style=\"display:block;height:19px;width:39%;background-color:white;border-radius:4px\"><span class=\"atm_12_q7pw6w atm_16_12c5xpv atm_u_1yy80mb atm_y_9cwzv5 atm_1c_2rgkoi atm_k4_7tcf61 atm_1k_1ytfnp0 atm_2d_1r31cwp atm_9s_1ulexfb atm_mk_h2mmj6 atm_e2p1ow_glywfm dir dir-ltr\" style=\"height:100%;width:100%;border-radius:4px\"></span></span></div>\n",
      "[] [] <div class=\"f15liw5s dir dir-ltr\"><span aria-busy=\"true\" style=\"display:block;height:19px;width:39%;background-color:white;border-radius:4px\"><span class=\"atm_12_q7pw6w atm_16_12c5xpv atm_u_1yy80mb atm_y_9cwzv5 atm_1c_2rgkoi atm_k4_7tcf61 atm_1k_1ytfnp0 atm_2d_1r31cwp atm_9s_1ulexfb atm_mk_h2mmj6 atm_e2p1ow_glywfm dir dir-ltr\" style=\"height:100%;width:100%;border-radius:4px\"></span></span></div>\n",
      "[] [] <div class=\"f15liw5s dir dir-ltr\"><span aria-busy=\"true\" style=\"display:block;height:19px;width:39%;background-color:white;border-radius:4px\"><span class=\"atm_12_q7pw6w atm_16_12c5xpv atm_u_1yy80mb atm_y_9cwzv5 atm_1c_2rgkoi atm_k4_7tcf61 atm_1k_1ytfnp0 atm_2d_1r31cwp atm_9s_1ulexfb atm_mk_h2mmj6 atm_e2p1ow_glywfm dir dir-ltr\" style=\"height:100%;width:100%;border-radius:4px\"></span></span></div>\n",
      "[] [] <div class=\"f15liw5s dir dir-ltr\"><span aria-busy=\"true\" style=\"display:block;height:19px;width:39%;background-color:white;border-radius:4px\"><span class=\"atm_12_q7pw6w atm_16_12c5xpv atm_u_1yy80mb atm_y_9cwzv5 atm_1c_2rgkoi atm_k4_7tcf61 atm_1k_1ytfnp0 atm_2d_1r31cwp atm_9s_1ulexfb atm_mk_h2mmj6 atm_e2p1ow_glywfm dir dir-ltr\" style=\"height:100%;width:100%;border-radius:4px\"></span></span></div>\n",
      "[] [] <div class=\"f15liw5s dir dir-ltr\"><span aria-busy=\"true\" style=\"display:block;height:19px;width:39%;background-color:white;border-radius:4px\"><span class=\"atm_12_q7pw6w atm_16_12c5xpv atm_u_1yy80mb atm_y_9cwzv5 atm_1c_2rgkoi atm_k4_7tcf61 atm_1k_1ytfnp0 atm_2d_1r31cwp atm_9s_1ulexfb atm_mk_h2mmj6 atm_e2p1ow_glywfm dir dir-ltr\" style=\"height:100%;width:100%;border-radius:4px\"></span></span></div>\n",
      "[] [] <div class=\"f15liw5s dir dir-ltr\"><span aria-busy=\"true\" style=\"display:block;height:19px;width:39%;background-color:white;border-radius:4px\"><span class=\"atm_12_q7pw6w atm_16_12c5xpv atm_u_1yy80mb atm_y_9cwzv5 atm_1c_2rgkoi atm_k4_7tcf61 atm_1k_1ytfnp0 atm_2d_1r31cwp atm_9s_1ulexfb atm_mk_h2mmj6 atm_e2p1ow_glywfm dir dir-ltr\" style=\"height:100%;width:100%;border-radius:4px\"></span></span></div>\n",
      "[] [] <div class=\"f15liw5s dir dir-ltr\"><span aria-busy=\"true\" style=\"display:block;height:19px;width:39%;background-color:white;border-radius:4px\"><span class=\"atm_12_q7pw6w atm_16_12c5xpv atm_u_1yy80mb atm_y_9cwzv5 atm_1c_2rgkoi atm_k4_7tcf61 atm_1k_1ytfnp0 atm_2d_1r31cwp atm_9s_1ulexfb atm_mk_h2mmj6 atm_e2p1ow_glywfm dir dir-ltr\" style=\"height:100%;width:100%;border-radius:4px\"></span></span></div>\n",
      "[] [] <div class=\"f15liw5s dir dir-ltr\"><span aria-busy=\"true\" style=\"display:block;height:19px;width:39%;background-color:white;border-radius:4px\"><span class=\"atm_12_q7pw6w atm_16_12c5xpv atm_u_1yy80mb atm_y_9cwzv5 atm_1c_2rgkoi atm_k4_7tcf61 atm_1k_1ytfnp0 atm_2d_1r31cwp atm_9s_1ulexfb atm_mk_h2mmj6 atm_e2p1ow_glywfm dir dir-ltr\" style=\"height:100%;width:100%;border-radius:4px\"></span></span></div>\n",
      "[] [] <div class=\"f15liw5s dir dir-ltr\"><span aria-busy=\"true\" style=\"display:block;height:19px;width:39%;background-color:white;border-radius:4px\"><span class=\"atm_12_q7pw6w atm_16_12c5xpv atm_u_1yy80mb atm_y_9cwzv5 atm_1c_2rgkoi atm_k4_7tcf61 atm_1k_1ytfnp0 atm_2d_1r31cwp atm_9s_1ulexfb atm_mk_h2mmj6 atm_e2p1ow_glywfm dir dir-ltr\" style=\"height:100%;width:100%;border-radius:4px\"></span></span></div>\n",
      "[] [] <div class=\"f15liw5s dir dir-ltr\"><span aria-busy=\"true\" style=\"display:block;height:19px;width:39%;background-color:white;border-radius:4px\"><span class=\"atm_12_q7pw6w atm_16_12c5xpv atm_u_1yy80mb atm_y_9cwzv5 atm_1c_2rgkoi atm_k4_7tcf61 atm_1k_1ytfnp0 atm_2d_1r31cwp atm_9s_1ulexfb atm_mk_h2mmj6 atm_e2p1ow_glywfm dir dir-ltr\" style=\"height:100%;width:100%;border-radius:4px\"></span></span></div>\n",
      "[] [] <div class=\"f15liw5s dir dir-ltr\"><span aria-busy=\"true\" style=\"display:block;height:19px;width:39%;background-color:white;border-radius:4px\"><span class=\"atm_12_q7pw6w atm_16_12c5xpv atm_u_1yy80mb atm_y_9cwzv5 atm_1c_2rgkoi atm_k4_7tcf61 atm_1k_1ytfnp0 atm_2d_1r31cwp atm_9s_1ulexfb atm_mk_h2mmj6 atm_e2p1ow_glywfm dir dir-ltr\" style=\"height:100%;width:100%;border-radius:4px\"></span></span></div>\n",
      "[] [] <div class=\"f15liw5s dir dir-ltr\"><span aria-busy=\"true\" style=\"display:block;height:19px;width:39%;background-color:white;border-radius:4px\"><span class=\"atm_12_q7pw6w atm_16_12c5xpv atm_u_1yy80mb atm_y_9cwzv5 atm_1c_2rgkoi atm_k4_7tcf61 atm_1k_1ytfnp0 atm_2d_1r31cwp atm_9s_1ulexfb atm_mk_h2mmj6 atm_e2p1ow_glywfm dir dir-ltr\" style=\"height:100%;width:100%;border-radius:4px\"></span></span></div>\n",
      "[] [] <div class=\"f15liw5s dir dir-ltr\"><span aria-busy=\"true\" style=\"display:block;height:19px;width:39%;background-color:white;border-radius:4px\"><span class=\"atm_12_q7pw6w atm_16_12c5xpv atm_u_1yy80mb atm_y_9cwzv5 atm_1c_2rgkoi atm_k4_7tcf61 atm_1k_1ytfnp0 atm_2d_1r31cwp atm_9s_1ulexfb atm_mk_h2mmj6 atm_e2p1ow_glywfm dir dir-ltr\" style=\"height:100%;width:100%;border-radius:4px\"></span></span></div>\n",
      "[] [] <div class=\"f15liw5s dir dir-ltr\"><span aria-busy=\"true\" style=\"display:block;height:19px;width:39%;background-color:white;border-radius:4px\"><span class=\"atm_12_q7pw6w atm_16_12c5xpv atm_u_1yy80mb atm_y_9cwzv5 atm_1c_2rgkoi atm_k4_7tcf61 atm_1k_1ytfnp0 atm_2d_1r31cwp atm_9s_1ulexfb atm_mk_h2mmj6 atm_e2p1ow_glywfm dir dir-ltr\" style=\"height:100%;width:100%;border-radius:4px\"></span></span></div>\n"
     ]
    }
   ],
   "source": [
    "anuncios_airbnb = {'descrição':[], 'cidade':[], 'preço':[]}\n",
    "\n",
    "for i in a:\n",
    "    desc = i.find_all('div', {'class':'g1qv1ctd cb4nyux dir dir-ltr'})\n",
    "    cida = i.find_all('div', {'class':'t1jojoys dir dir-ltr'})\n",
    "    prec = i.find('div', {'class':'f15liw5s dir dir-ltr'})\n",
    "    \n",
    "    anuncios_airbnb['descrição'].append(desc)\n",
    "    anuncios_airbnb['cidade'].append(cida)\n",
    "    anuncios_airbnb['preço'].append(prec)\n",
    "\n",
    "    print(desc, cida, prec)"
   ]
  },
  {
   "cell_type": "code",
   "execution_count": null,
   "id": "090be6db",
   "metadata": {},
   "outputs": [],
   "source": [
    "df = pd.DataFrame(dic_produtos)\n",
    "df.to_csv('airbnb_it.csv', encoding='utf-8', sep=';')"
   ]
  },
  {
   "cell_type": "code",
   "execution_count": 119,
   "id": "75764df5",
   "metadata": {},
   "outputs": [],
   "source": [
    "#Ver todas as classes do html:\n",
    "# class_list = set()\n",
    "# tags = {tag.name for tag in soup.find_all()}\n",
    "# for tag in tags:\n",
    "#     for i in soup.find_all(tag):\n",
    "#         if i.has_attr(\"class\"):\n",
    "#             class_list.add(\" \".join(i['class']))\n",
    "# classes = list(class_list)"
   ]
  },
  {
   "cell_type": "code",
   "execution_count": 101,
   "id": "4309d4ca",
   "metadata": {},
   "outputs": [],
   "source": [
    "from selenium import webdriver"
   ]
  },
  {
   "cell_type": "code",
   "execution_count": 123,
   "id": "a3b1a8b1",
   "metadata": {},
   "outputs": [
    {
     "name": "stderr",
     "output_type": "stream",
     "text": [
      "C:\\Users\\BRUNOD~1\\AppData\\Local\\Temp/ipykernel_12796/1900330286.py:1: DeprecationWarning: executable_path has been deprecated, please pass in a Service object\n",
      "  driver = webdriver.Chrome(r'C:\\Users\\brunodambros\\Documents\\tech\\scrap_airbnb\\chromedriver.exe')\n"
     ]
    }
   ],
   "source": [
    "driver = webdriver.Chrome(r'C:\\Users\\brunodambros\\Documents\\tech\\scrap_airbnb\\chromedriver.exe')"
   ]
  },
  {
   "cell_type": "code",
   "execution_count": 124,
   "id": "e75f577b",
   "metadata": {},
   "outputs": [],
   "source": [
    "driver.get('https://www.airbnb.com.br/')"
   ]
  },
  {
   "cell_type": "code",
   "execution_count": 126,
   "id": "52212d6e",
   "metadata": {},
   "outputs": [
    {
     "name": "stderr",
     "output_type": "stream",
     "text": [
      "C:\\Users\\BRUNOD~1\\AppData\\Local\\Temp/ipykernel_12796/4168809121.py:1: DeprecationWarning: find_element_by_* commands are deprecated. Please use find_element() instead\n",
      "  driver.find_element_by_id('bigsearch-query-location-input').send_keys('italia')\n"
     ]
    },
    {
     "ename": "ElementNotInteractableException",
     "evalue": "Message: element not interactable\n  (Session info: chrome=109.0.5414.75)\nStacktrace:\nBacktrace:\n\t(No symbol) [0x00686643]\n\t(No symbol) [0x0061BE21]\n\t(No symbol) [0x0051D960]\n\t(No symbol) [0x0054C3BE]\n\t(No symbol) [0x0054B7AB]\n\t(No symbol) [0x0056FD7C]\n\t(No symbol) [0x0054641F]\n\t(No symbol) [0x005700D4]\n\t(No symbol) [0x00586B09]\n\t(No symbol) [0x0056FB76]\n\t(No symbol) [0x005449C1]\n\t(No symbol) [0x00545E5D]\n\tGetHandleVerifier [0x008FA142+2497106]\n\tGetHandleVerifier [0x009285D3+2686691]\n\tGetHandleVerifier [0x0092BB9C+2700460]\n\tGetHandleVerifier [0x00733B10+635936]\n\t(No symbol) [0x00624A1F]\n\t(No symbol) [0x0062A418]\n\t(No symbol) [0x0062A505]\n\t(No symbol) [0x0063508B]\n\tBaseThreadInitThunk [0x7541FA29+25]\n\tRtlGetAppContainerNamedObjectPath [0x77187A9E+286]\n\tRtlGetAppContainerNamedObjectPath [0x77187A6E+238]\n",
     "output_type": "error",
     "traceback": [
      "\u001b[1;31m---------------------------------------------------------------------------\u001b[0m",
      "\u001b[1;31mElementNotInteractableException\u001b[0m           Traceback (most recent call last)",
      "\u001b[1;32mC:\\Users\\BRUNOD~1\\AppData\\Local\\Temp/ipykernel_12796/4168809121.py\u001b[0m in \u001b[0;36m<module>\u001b[1;34m\u001b[0m\n\u001b[1;32m----> 1\u001b[1;33m \u001b[0mdriver\u001b[0m\u001b[1;33m.\u001b[0m\u001b[0mfind_element_by_id\u001b[0m\u001b[1;33m(\u001b[0m\u001b[1;34m'bigsearch-query-location-input'\u001b[0m\u001b[1;33m)\u001b[0m\u001b[1;33m.\u001b[0m\u001b[0msend_keys\u001b[0m\u001b[1;33m(\u001b[0m\u001b[1;34m'italia'\u001b[0m\u001b[1;33m)\u001b[0m\u001b[1;33m\u001b[0m\u001b[1;33m\u001b[0m\u001b[0m\n\u001b[0m",
      "\u001b[1;32m~\\Anaconda3\\lib\\site-packages\\selenium\\webdriver\\remote\\webelement.py\u001b[0m in \u001b[0;36msend_keys\u001b[1;34m(self, *value)\u001b[0m\n\u001b[0;32m    538\u001b[0m                 \u001b[0mvalue\u001b[0m \u001b[1;33m=\u001b[0m \u001b[1;34m'\\n'\u001b[0m\u001b[1;33m.\u001b[0m\u001b[0mjoin\u001b[0m\u001b[1;33m(\u001b[0m\u001b[0mremote_files\u001b[0m\u001b[1;33m)\u001b[0m\u001b[1;33m\u001b[0m\u001b[1;33m\u001b[0m\u001b[0m\n\u001b[0;32m    539\u001b[0m \u001b[1;33m\u001b[0m\u001b[0m\n\u001b[1;32m--> 540\u001b[1;33m         self._execute(Command.SEND_KEYS_TO_ELEMENT,\n\u001b[0m\u001b[0;32m    541\u001b[0m                       {'text': \"\".join(keys_to_typing(value)),\n\u001b[0;32m    542\u001b[0m                        'value': keys_to_typing(value)})\n",
      "\u001b[1;32m~\\Anaconda3\\lib\\site-packages\\selenium\\webdriver\\remote\\webelement.py\u001b[0m in \u001b[0;36m_execute\u001b[1;34m(self, command, params)\u001b[0m\n\u001b[0;32m    708\u001b[0m             \u001b[0mparams\u001b[0m \u001b[1;33m=\u001b[0m \u001b[1;33m{\u001b[0m\u001b[1;33m}\u001b[0m\u001b[1;33m\u001b[0m\u001b[1;33m\u001b[0m\u001b[0m\n\u001b[0;32m    709\u001b[0m         \u001b[0mparams\u001b[0m\u001b[1;33m[\u001b[0m\u001b[1;34m'id'\u001b[0m\u001b[1;33m]\u001b[0m \u001b[1;33m=\u001b[0m \u001b[0mself\u001b[0m\u001b[1;33m.\u001b[0m\u001b[0m_id\u001b[0m\u001b[1;33m\u001b[0m\u001b[1;33m\u001b[0m\u001b[0m\n\u001b[1;32m--> 710\u001b[1;33m         \u001b[1;32mreturn\u001b[0m \u001b[0mself\u001b[0m\u001b[1;33m.\u001b[0m\u001b[0m_parent\u001b[0m\u001b[1;33m.\u001b[0m\u001b[0mexecute\u001b[0m\u001b[1;33m(\u001b[0m\u001b[0mcommand\u001b[0m\u001b[1;33m,\u001b[0m \u001b[0mparams\u001b[0m\u001b[1;33m)\u001b[0m\u001b[1;33m\u001b[0m\u001b[1;33m\u001b[0m\u001b[0m\n\u001b[0m\u001b[0;32m    711\u001b[0m \u001b[1;33m\u001b[0m\u001b[0m\n\u001b[0;32m    712\u001b[0m     \u001b[1;32mdef\u001b[0m \u001b[0mfind_element\u001b[0m\u001b[1;33m(\u001b[0m\u001b[0mself\u001b[0m\u001b[1;33m,\u001b[0m \u001b[0mby\u001b[0m\u001b[1;33m=\u001b[0m\u001b[0mBy\u001b[0m\u001b[1;33m.\u001b[0m\u001b[0mID\u001b[0m\u001b[1;33m,\u001b[0m \u001b[0mvalue\u001b[0m\u001b[1;33m=\u001b[0m\u001b[1;32mNone\u001b[0m\u001b[1;33m)\u001b[0m\u001b[1;33m:\u001b[0m\u001b[1;33m\u001b[0m\u001b[1;33m\u001b[0m\u001b[0m\n",
      "\u001b[1;32m~\\Anaconda3\\lib\\site-packages\\selenium\\webdriver\\remote\\webdriver.py\u001b[0m in \u001b[0;36mexecute\u001b[1;34m(self, driver_command, params)\u001b[0m\n\u001b[0;32m    422\u001b[0m         \u001b[0mresponse\u001b[0m \u001b[1;33m=\u001b[0m \u001b[0mself\u001b[0m\u001b[1;33m.\u001b[0m\u001b[0mcommand_executor\u001b[0m\u001b[1;33m.\u001b[0m\u001b[0mexecute\u001b[0m\u001b[1;33m(\u001b[0m\u001b[0mdriver_command\u001b[0m\u001b[1;33m,\u001b[0m \u001b[0mparams\u001b[0m\u001b[1;33m)\u001b[0m\u001b[1;33m\u001b[0m\u001b[1;33m\u001b[0m\u001b[0m\n\u001b[0;32m    423\u001b[0m         \u001b[1;32mif\u001b[0m \u001b[0mresponse\u001b[0m\u001b[1;33m:\u001b[0m\u001b[1;33m\u001b[0m\u001b[1;33m\u001b[0m\u001b[0m\n\u001b[1;32m--> 424\u001b[1;33m             \u001b[0mself\u001b[0m\u001b[1;33m.\u001b[0m\u001b[0merror_handler\u001b[0m\u001b[1;33m.\u001b[0m\u001b[0mcheck_response\u001b[0m\u001b[1;33m(\u001b[0m\u001b[0mresponse\u001b[0m\u001b[1;33m)\u001b[0m\u001b[1;33m\u001b[0m\u001b[1;33m\u001b[0m\u001b[0m\n\u001b[0m\u001b[0;32m    425\u001b[0m             response['value'] = self._unwrap_value(\n\u001b[0;32m    426\u001b[0m                 response.get('value', None))\n",
      "\u001b[1;32m~\\Anaconda3\\lib\\site-packages\\selenium\\webdriver\\remote\\errorhandler.py\u001b[0m in \u001b[0;36mcheck_response\u001b[1;34m(self, response)\u001b[0m\n\u001b[0;32m    245\u001b[0m                 \u001b[0malert_text\u001b[0m \u001b[1;33m=\u001b[0m \u001b[0mvalue\u001b[0m\u001b[1;33m[\u001b[0m\u001b[1;34m'alert'\u001b[0m\u001b[1;33m]\u001b[0m\u001b[1;33m.\u001b[0m\u001b[0mget\u001b[0m\u001b[1;33m(\u001b[0m\u001b[1;34m'text'\u001b[0m\u001b[1;33m)\u001b[0m\u001b[1;33m\u001b[0m\u001b[1;33m\u001b[0m\u001b[0m\n\u001b[0;32m    246\u001b[0m             \u001b[1;32mraise\u001b[0m \u001b[0mexception_class\u001b[0m\u001b[1;33m(\u001b[0m\u001b[0mmessage\u001b[0m\u001b[1;33m,\u001b[0m \u001b[0mscreen\u001b[0m\u001b[1;33m,\u001b[0m \u001b[0mstacktrace\u001b[0m\u001b[1;33m,\u001b[0m \u001b[0malert_text\u001b[0m\u001b[1;33m)\u001b[0m  \u001b[1;31m# type: ignore[call-arg]  # mypy is not smart enough here\u001b[0m\u001b[1;33m\u001b[0m\u001b[1;33m\u001b[0m\u001b[0m\n\u001b[1;32m--> 247\u001b[1;33m         \u001b[1;32mraise\u001b[0m \u001b[0mexception_class\u001b[0m\u001b[1;33m(\u001b[0m\u001b[0mmessage\u001b[0m\u001b[1;33m,\u001b[0m \u001b[0mscreen\u001b[0m\u001b[1;33m,\u001b[0m \u001b[0mstacktrace\u001b[0m\u001b[1;33m)\u001b[0m\u001b[1;33m\u001b[0m\u001b[1;33m\u001b[0m\u001b[0m\n\u001b[0m\u001b[0;32m    248\u001b[0m \u001b[1;33m\u001b[0m\u001b[0m\n\u001b[0;32m    249\u001b[0m     \u001b[1;32mdef\u001b[0m \u001b[0m_value_or_default\u001b[0m\u001b[1;33m(\u001b[0m\u001b[0mself\u001b[0m\u001b[1;33m,\u001b[0m \u001b[0mobj\u001b[0m\u001b[1;33m:\u001b[0m \u001b[0mMapping\u001b[0m\u001b[1;33m[\u001b[0m\u001b[0m_KT\u001b[0m\u001b[1;33m,\u001b[0m \u001b[0m_VT\u001b[0m\u001b[1;33m]\u001b[0m\u001b[1;33m,\u001b[0m \u001b[0mkey\u001b[0m\u001b[1;33m:\u001b[0m \u001b[0m_KT\u001b[0m\u001b[1;33m,\u001b[0m \u001b[0mdefault\u001b[0m\u001b[1;33m:\u001b[0m \u001b[0m_VT\u001b[0m\u001b[1;33m)\u001b[0m \u001b[1;33m->\u001b[0m \u001b[0m_VT\u001b[0m\u001b[1;33m:\u001b[0m\u001b[1;33m\u001b[0m\u001b[1;33m\u001b[0m\u001b[0m\n",
      "\u001b[1;31mElementNotInteractableException\u001b[0m: Message: element not interactable\n  (Session info: chrome=109.0.5414.75)\nStacktrace:\nBacktrace:\n\t(No symbol) [0x00686643]\n\t(No symbol) [0x0061BE21]\n\t(No symbol) [0x0051D960]\n\t(No symbol) [0x0054C3BE]\n\t(No symbol) [0x0054B7AB]\n\t(No symbol) [0x0056FD7C]\n\t(No symbol) [0x0054641F]\n\t(No symbol) [0x005700D4]\n\t(No symbol) [0x00586B09]\n\t(No symbol) [0x0056FB76]\n\t(No symbol) [0x005449C1]\n\t(No symbol) [0x00545E5D]\n\tGetHandleVerifier [0x008FA142+2497106]\n\tGetHandleVerifier [0x009285D3+2686691]\n\tGetHandleVerifier [0x0092BB9C+2700460]\n\tGetHandleVerifier [0x00733B10+635936]\n\t(No symbol) [0x00624A1F]\n\t(No symbol) [0x0062A418]\n\t(No symbol) [0x0062A505]\n\t(No symbol) [0x0063508B]\n\tBaseThreadInitThunk [0x7541FA29+25]\n\tRtlGetAppContainerNamedObjectPath [0x77187A9E+286]\n\tRtlGetAppContainerNamedObjectPath [0x77187A6E+238]\n"
     ]
    }
   ],
   "source": [
    "driver.find_element_by_id('bigsearch-query-location-input').send_keys('italia')"
   ]
  },
  {
   "cell_type": "code",
   "execution_count": null,
   "id": "65dd4ef0",
   "metadata": {},
   "outputs": [],
   "source": []
  }
 ],
 "metadata": {
  "kernelspec": {
   "display_name": "Python 3 (ipykernel)",
   "language": "python",
   "name": "python3"
  },
  "language_info": {
   "codemirror_mode": {
    "name": "ipython",
    "version": 3
   },
   "file_extension": ".py",
   "mimetype": "text/x-python",
   "name": "python",
   "nbconvert_exporter": "python",
   "pygments_lexer": "ipython3",
   "version": "3.9.7"
  }
 },
 "nbformat": 4,
 "nbformat_minor": 5
}
